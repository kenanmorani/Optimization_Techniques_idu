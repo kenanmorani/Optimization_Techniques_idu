{
 "cells": [
  {
   "cell_type": "markdown",
   "metadata": {},
   "source": [
    "# HW4-Optimization with constraint\n",
    "* Izmir Democracy University, Electrical and Electronics Program\n",
    "* Submitted to Assoc. Prof. Selami BEYHAN\n",
    "* By kenan MORANI"
   ]
  },
  {
   "cell_type": "markdown",
   "metadata": {},
   "source": [
    "* This notebook lives on my github \n",
    "https://github.com/kenanmorani/Optimization_Techniques_idu/blob/main/Optimization_with_Constraints/Optimization_with_Constraint.ipynb\n",
    "\n",
    "* You can run it through jupyter.org: by clicking on NBViewer and adding the URL above."
   ]
  },
  {
   "cell_type": "markdown",
   "metadata": {},
   "source": [
    "  NOTE: I used two different optimization methods for Function1 and Function2 to compare the results"
   ]
  },
  {
   "cell_type": "code",
   "execution_count": 4,
   "metadata": {},
   "outputs": [
    {
     "name": "stdout",
     "output_type": "stream",
     "text": [
      "Requirement already satisfied: numpy in /srv/conda/envs/notebook/lib/python3.7/site-packages (1.19.5)\n",
      "Collecting scipy\n",
      "  Downloading scipy-1.6.0-cp37-cp37m-manylinux1_x86_64.whl (27.4 MB)\n",
      "\u001b[K     |████████████████████████████████| 27.4 MB 112 kB/s eta 0:00:01\n",
      "\u001b[?25hRequirement already satisfied: numpy>=1.16.5 in /srv/conda/envs/notebook/lib/python3.7/site-packages (from scipy) (1.19.5)\n",
      "Installing collected packages: scipy\n",
      "Successfully installed scipy-1.6.0\n"
     ]
    }
   ],
   "source": [
    "!pip install numpy\n",
    "!pip install scipy"
   ]
  },
  {
   "cell_type": "code",
   "execution_count": 5,
   "metadata": {},
   "outputs": [],
   "source": [
    "# Importing numpy and scipy optimization libraries\n",
    "import numpy as np\n",
    "from scipy.optimize import minimize"
   ]
  },
  {
   "cell_type": "markdown",
   "metadata": {},
   "source": [
    "# Optimization on Function1"
   ]
  },
  {
   "cell_type": "code",
   "execution_count": 6,
   "metadata": {},
   "outputs": [],
   "source": [
    "# Defining the objective first function in the HW4\n",
    "def objective(x):\n",
    "    x1=x[0]\n",
    "    x2=x[1]\n",
    "    return 2*x2**2+3*x2**4+5*x1**2+3\n",
    "\n",
    "\n",
    "# Defining the constriant in the first function\n",
    "def constraint(x):\n",
    "    return 2*x[0]-x[0]*x[0]-5"
   ]
  },
  {
   "cell_type": "code",
   "execution_count": 54,
   "metadata": {},
   "outputs": [
    {
     "name": "stdout",
     "output_type": "stream",
     "text": [
      "59\n"
     ]
    }
   ],
   "source": [
    "# Intial guesses\n",
    "x0 = [0,2]\n",
    "\n",
    "print(objective(x0)) # Getting the values with the intialguesses"
   ]
  },
  {
   "cell_type": "code",
   "execution_count": 55,
   "metadata": {},
   "outputs": [],
   "source": [
    "con = {'type': 'eq', 'fun': constraint}"
   ]
  },
  {
   "cell_type": "code",
   "execution_count": 56,
   "metadata": {},
   "outputs": [],
   "source": [
    "# Using Scipy optimization to find the solutions (method chosen here is SLSQP)\n",
    "solution_method1 = minimize(objective,x0,method='SLSQP',constraints=con) "
   ]
  },
  {
   "cell_type": "code",
   "execution_count": 57,
   "metadata": {},
   "outputs": [],
   "source": [
    "# Using Scipy optimization to find the solutions (method chosen here is newton-CG)\n",
    "solution_method2 = minimize(objective,x0,method='Nelder-Mead',constraints=con)"
   ]
  },
  {
   "cell_type": "code",
   "execution_count": 58,
   "metadata": {},
   "outputs": [
    {
     "name": "stdout",
     "output_type": "stream",
     "text": [
      "     fun: 11.3417326388861\n",
      "     jac: array([10.00000012, 11.68089151])\n",
      " message: 'Singular matrix C in LSQ subproblem'\n",
      "    nfev: 35\n",
      "     nit: 7\n",
      "    njev: 7\n",
      "  status: 6\n",
      " success: False\n",
      "       x: array([1.        , 0.87947358])\n"
     ]
    }
   ],
   "source": [
    "x=solution_method1.x\n",
    "print (solution_method1)"
   ]
  },
  {
   "cell_type": "code",
   "execution_count": 59,
   "metadata": {},
   "outputs": [
    {
     "name": "stdout",
     "output_type": "stream",
     "text": [
      " final_simplex: (array([[-1.98623657e-06,  3.01251498e-05],\n",
      "       [-2.35294905e-05, -1.94200859e-05],\n",
      "       [ 3.13036635e-05, -3.49718810e-05]]), array([3.        , 3.        , 3.00000001]))\n",
      "           fun: 3.000000001834775\n",
      "       message: 'Optimization terminated successfully.'\n",
      "          nfev: 87\n",
      "           nit: 45\n",
      "        status: 0\n",
      "       success: True\n",
      "             x: array([-1.98623657e-06,  3.01251498e-05])\n"
     ]
    }
   ],
   "source": [
    "x=solution_method2.x\n",
    "print (solution_method2)"
   ]
  },
  {
   "cell_type": "code",
   "execution_count": 60,
   "metadata": {},
   "outputs": [
    {
     "name": "stdout",
     "output_type": "stream",
     "text": [
      "1.0000000033655767\n"
     ]
    }
   ],
   "source": [
    "print(solution_method1.x[0])"
   ]
  },
  {
   "cell_type": "code",
   "execution_count": 61,
   "metadata": {},
   "outputs": [
    {
     "name": "stdout",
     "output_type": "stream",
     "text": [
      "0.8794735794875385\n"
     ]
    }
   ],
   "source": [
    "print(solution_method1.x[1])"
   ]
  },
  {
   "cell_type": "code",
   "execution_count": 62,
   "metadata": {},
   "outputs": [
    {
     "name": "stdout",
     "output_type": "stream",
     "text": [
      "-1.986236574494671e-06\n"
     ]
    }
   ],
   "source": [
    "print(solution_method2.x[0])"
   ]
  },
  {
   "cell_type": "code",
   "execution_count": 63,
   "metadata": {},
   "outputs": [
    {
     "name": "stdout",
     "output_type": "stream",
     "text": [
      "3.012514979528061e-05\n"
     ]
    }
   ],
   "source": [
    "print(solution_method2.x[1])"
   ]
  },
  {
   "cell_type": "markdown",
   "metadata": {},
   "source": [
    "# Optimization on Function2"
   ]
  },
  {
   "cell_type": "code",
   "execution_count": 65,
   "metadata": {},
   "outputs": [],
   "source": [
    "# Defining the objective first function in the HW4\n",
    "def objective(x):\n",
    "    x1=x[0]\n",
    "    x2=x[1]\n",
    "    return x1**3+x1**4+x2+x2**2\n",
    "\n",
    "\n",
    "# Defining the constriant in the first function\n",
    "def constraint(x):\n",
    "    return x[0]**2-x[1]**2"
   ]
  },
  {
   "cell_type": "code",
   "execution_count": 66,
   "metadata": {},
   "outputs": [
    {
     "name": "stdout",
     "output_type": "stream",
     "text": [
      "6\n"
     ]
    }
   ],
   "source": [
    "# Intial guesses\n",
    "x0 = [0,2]\n",
    "\n",
    "print(objective(x0)) # Getting the values with the intialguesses"
   ]
  },
  {
   "cell_type": "code",
   "execution_count": 67,
   "metadata": {},
   "outputs": [],
   "source": [
    "con = {'type': 'eq', 'fun': constraint}"
   ]
  },
  {
   "cell_type": "code",
   "execution_count": 68,
   "metadata": {},
   "outputs": [],
   "source": [
    "# Using Scipy optimization to find the solutions (method chosen here is SLSQP)\n",
    "solution_method1 = minimize(objective,x0,method='SLSQP',constraints=con) #constraints=cons"
   ]
  },
  {
   "cell_type": "code",
   "execution_count": 69,
   "metadata": {},
   "outputs": [],
   "source": [
    "# Using Scipy optimization to find the solutions (method chosen here is newton-CG)\n",
    "solution_method2 = minimize(objective,x0,method='Nelder-Mead',constraints=con) #constraints=cons"
   ]
  },
  {
   "cell_type": "code",
   "execution_count": 70,
   "metadata": {},
   "outputs": [
    {
     "name": "stdout",
     "output_type": "stream",
     "text": [
      "     fun: -0.32644677533451244\n",
      "     jac: array([ 0.21166389, -0.21164692])\n",
      " message: 'Optimization terminated successfully'\n",
      "    nfev: 58\n",
      "     nit: 19\n",
      "    njev: 19\n",
      "  status: 0\n",
      " success: True\n",
      "       x: array([-0.60582346, -0.60582347])\n"
     ]
    }
   ],
   "source": [
    "x=solution_method1.x\n",
    "print (solution_method1)"
   ]
  },
  {
   "cell_type": "code",
   "execution_count": 71,
   "metadata": {},
   "outputs": [
    {
     "name": "stdout",
     "output_type": "stream",
     "text": [
      " final_simplex: (array([[ 0.00110296, -0.49998175],\n",
      "       [ 0.00111739, -0.50003313],\n",
      "       [ 0.00109316, -0.50005257]]), array([-0.25, -0.25, -0.25]))\n",
      "           fun: -0.24999999832371594\n",
      "       message: 'Optimization terminated successfully.'\n",
      "          nfev: 57\n",
      "           nit: 30\n",
      "        status: 0\n",
      "       success: True\n",
      "             x: array([ 0.00110296, -0.49998175])\n"
     ]
    }
   ],
   "source": [
    "x=solution_method2.x\n",
    "print (solution_method2)"
   ]
  },
  {
   "cell_type": "code",
   "execution_count": 72,
   "metadata": {},
   "outputs": [
    {
     "name": "stdout",
     "output_type": "stream",
     "text": [
      "-0.6058234629177922\n"
     ]
    }
   ],
   "source": [
    "print(solution_method1.x[0])"
   ]
  },
  {
   "cell_type": "code",
   "execution_count": 73,
   "metadata": {},
   "outputs": [
    {
     "name": "stdout",
     "output_type": "stream",
     "text": [
      "-0.6058234682907016\n"
     ]
    }
   ],
   "source": [
    "print(solution_method1.x[1])"
   ]
  },
  {
   "cell_type": "code",
   "execution_count": 74,
   "metadata": {},
   "outputs": [
    {
     "name": "stdout",
     "output_type": "stream",
     "text": [
      "0.0011029622639762244\n"
     ]
    }
   ],
   "source": [
    "print(solution_method2.x[0])"
   ]
  },
  {
   "cell_type": "code",
   "execution_count": 75,
   "metadata": {},
   "outputs": [
    {
     "name": "stdout",
     "output_type": "stream",
     "text": [
      "-0.49998175110668663\n"
     ]
    }
   ],
   "source": [
    "print(solution_method2.x[1])"
   ]
  },
  {
   "cell_type": "code",
   "execution_count": null,
   "metadata": {},
   "outputs": [],
   "source": []
  }
 ],
 "metadata": {
  "kernelspec": {
   "display_name": "Python 3",
   "language": "python",
   "name": "python3"
  },
  "language_info": {
   "codemirror_mode": {
    "name": "ipython",
    "version": 3
   },
   "file_extension": ".py",
   "mimetype": "text/x-python",
   "name": "python",
   "nbconvert_exporter": "python",
   "pygments_lexer": "ipython3",
   "version": "3.7.8"
  }
 },
 "nbformat": 4,
 "nbformat_minor": 4
}

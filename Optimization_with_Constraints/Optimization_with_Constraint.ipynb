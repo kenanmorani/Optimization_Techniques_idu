{
 "cells": [
  {
   "cell_type": "markdown",
   "metadata": {},
   "source": [
    "* HW4-Optimization with constraint\n",
    "* Izmir Democracy University, Electrical and Electronics Program\n",
    "* Submitted to Assoc. Prof. Selami BEYHAN\n",
    "* By kenan MORANI"
   ]
  },
  {
   "cell_type": "code",
   "execution_count": null,
   "metadata": {},
   "outputs": [],
   "source": [
    "# Importing numpy and scipy optimization libraries\n",
    "import numpy as np\n",
    "from scipy.optimize import minimize"
   ]
  },
  {
   "cell_type": "markdown",
   "metadata": {},
   "source": [
    "Optimization on function1"
   ]
  },
  {
   "cell_type": "code",
   "execution_count": null,
   "metadata": {},
   "outputs": [],
   "source": [
    "# Defining the objective first function in the HW4\n",
    "def objective(x):\n",
    "    x1=x[0]\n",
    "    x2=x[1]\n",
    "    return 2*x2**2+3*x2**4+5*x1**2+3\n",
    "\n",
    "\n",
    "# Defining the constriant in the first function\n",
    "def constraint(x):\n",
    "    return 2*x[0]-x[0]*x[0]-5"
   ]
  },
  {
   "cell_type": "code",
   "execution_count": null,
   "metadata": {},
   "outputs": [],
   "source": [
    "# Intial guesses\n",
    "x0 = [0,0]\n",
    "\n",
    "print(objective(x0)) # Getting the values with the intialguesses"
   ]
  },
  {
   "cell_type": "code",
   "execution_count": null,
   "metadata": {},
   "outputs": [],
   "source": [
    "con = {'type': 'eq', 'fun': constraint}"
   ]
  },
  {
   "cell_type": "code",
   "execution_count": null,
   "metadata": {},
   "outputs": [],
   "source": [
    "# Using Scipy optimization to find the solutions (method chosen here is SLSQP)\n",
    "solution = minimize(objective,x0,method='SLSQP',constraints=con) #constraints=cons"
   ]
  },
  {
   "cell_type": "code",
   "execution_count": null,
   "metadata": {},
   "outputs": [],
   "source": [
    "x=solution.x\n",
    "print (solution)"
   ]
  },
  {
   "cell_type": "code",
   "execution_count": 25,
   "metadata": {},
   "outputs": [
    {
     "name": "stdout",
     "output_type": "stream",
     "text": [
      "0.9999999827240392\n"
     ]
    }
   ],
   "source": [
    "print(solution.x[0])"
   ]
  },
  {
   "cell_type": "code",
   "execution_count": 26,
   "metadata": {},
   "outputs": [
    {
     "name": "stdout",
     "output_type": "stream",
     "text": [
      "3.5231513734233294e-09\n"
     ]
    }
   ],
   "source": [
    "print(solution.x[1])"
   ]
  },
  {
   "cell_type": "code",
   "execution_count": null,
   "metadata": {},
   "outputs": [],
   "source": []
  }
 ],
 "metadata": {
  "kernelspec": {
   "display_name": "Python 3",
   "language": "python",
   "name": "python3"
  },
  "language_info": {
   "codemirror_mode": {
    "name": "ipython",
    "version": 3
   },
   "file_extension": ".py",
   "mimetype": "text/x-python",
   "name": "python",
   "nbconvert_exporter": "python",
   "pygments_lexer": "ipython3",
   "version": "3.6.11"
  }
 },
 "nbformat": 4,
 "nbformat_minor": 4
}
